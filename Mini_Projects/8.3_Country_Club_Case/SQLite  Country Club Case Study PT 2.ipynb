{
 "cells": [
  {
   "cell_type": "markdown",
   "metadata": {},
   "source": [
    "### SQLite: Country Club Case Study\n",
    "\n",
    "Export the country club data from PHPMyAdmin, and connect to a local SQLite instance from Jupyter notebook \n",
    "for the following questions.  "
   ]
  },
  {
   "cell_type": "code",
   "execution_count": 15,
   "metadata": {},
   "outputs": [],
   "source": [
    "import sqlite3\n",
    "from sqlite3 import Error\n",
    "import pandas as pd\n",
    " \n",
    "def create_connection(db_file):\n",
    "    \"\"\" create a database connection to the SQLite database\n",
    "        specified by the db_file\n",
    "    :param db_file: database file\n",
    "    :return: Connection object or None\n",
    "    \"\"\"\n",
    "    conn = None\n",
    "    try:\n",
    "        conn = sqlite3.connect(db_file)\n",
    "        print(sqlite3.version)\n",
    "    except Error as e:\n",
    "        print(e)\n",
    " \n",
    "    return conn\n",
    " \n",
    "def select_all_tasks(conn):\n",
    "    \"\"\"\n",
    "    Query all rows in the tasks table\n",
    "    :param conn: the Connection object\n",
    "    :return:\n",
    "    \"\"\"\n",
    "    cur = conn.cursor()\n",
    "    \n",
    "    query1 = \"\"\"\n",
    "        SELECT *\n",
    "        FROM FACILITIES\n",
    "        \"\"\"\n",
    "    cur.execute(query1)\n",
    " \n",
    "    rows = cur.fetchall()\n",
    " \n",
    "    for row in rows:\n",
    "        print(row)"
   ]
  },
  {
   "cell_type": "code",
   "execution_count": 16,
   "metadata": {},
   "outputs": [
    {
     "name": "stdout",
     "output_type": "stream",
     "text": [
      "2.6.0\n",
      "2. Query all tasks\n",
      "(0, 'Tennis Court 1', 5, 25, 10000, 200)\n",
      "(1, 'Tennis Court 2', 5, 25, 8000, 200)\n",
      "(2, 'Badminton Court', 0, 15.5, 4000, 50)\n",
      "(3, 'Table Tennis', 0, 5, 320, 10)\n",
      "(4, 'Massage Room 1', 9.9, 80, 4000, 3000)\n",
      "(5, 'Massage Room 2', 9.9, 80, 4000, 3000)\n",
      "(6, 'Squash Court', 3.5, 17.5, 5000, 80)\n",
      "(7, 'Snooker Table', 0, 5, 450, 15)\n",
      "(8, 'Pool Table', 0, 5, 400, 15)\n"
     ]
    }
   ],
   "source": [
    "\n",
    "database = \"sqlite_db_pythonsqlite.db\"\n",
    " \n",
    "# create a database connection\n",
    "conn = create_connection(database)\n",
    "with conn: \n",
    "    print(\"2. Query all tasks\")\n",
    "    select_all_tasks(conn)"
   ]
  },
  {
   "cell_type": "markdown",
   "metadata": {},
   "source": [
    "### Q10: Produce a list of facilities with a total revenue less than 1000. The output of facility name and total revenue, sorted by revenue. Remember that there's a different cost for guests and members! "
   ]
  },
  {
   "cell_type": "code",
   "execution_count": 17,
   "metadata": {},
   "outputs": [
    {
     "name": "stdout",
     "output_type": "stream",
     "text": [
      "            name  revenue\n",
      "0   Table Tennis      180\n",
      "1  Snooker Table      240\n",
      "2     Pool Table      270\n"
     ]
    }
   ],
   "source": [
    "with conn:\n",
    "    cur= conn.cursor()\n",
    "    query10= ''' SELECT f.name, SUM(\n",
    "CASE WHEN b.memid =0\n",
    "THEN (\n",
    "slots * guestcost\n",
    ")\n",
    "ELSE (\n",
    "slots * membercost\n",
    ")\n",
    "END ) AS revenue\n",
    "FROM Bookings AS b\n",
    "INNER JOIN Facilities AS f\n",
    "USING ( facid )\n",
    "GROUP BY f.name\n",
    "HAVING revenue <1000\n",
    "ORDER BY revenue\n",
    "LIMIT 0 , 30'''\n",
    "    rs10= cur.execute(query10)\n",
    "    df10= pd.DataFrame(rs10.fetchall())\n",
    "    df10.columns= [i[0] for i in rs10.description]\n",
    "    print(df10)"
   ]
  },
  {
   "cell_type": "markdown",
   "metadata": {},
   "source": [
    "### Q11: Produce a report of members and who recommended them in alphabetic surname,firstname order "
   ]
  },
  {
   "cell_type": "code",
   "execution_count": 20,
   "metadata": {},
   "outputs": [
    {
     "name": "stdout",
     "output_type": "stream",
     "text": [
      "                     member           recommended_by\n",
      "0            Anna Mackenzie        no reccomendation\n",
      "1                Anne Baker        no reccomendation\n",
      "2              Burton Tracy          Ponder Stibbons\n",
      "3              Charles Owen        no reccomendation\n",
      "4              Darren Smith          Janice Joplette\n",
      "5              Darren Smith           Gerald Butters\n",
      "6              Darren Smith             Charles Owen\n",
      "7              Darren Smith               Jack Smith\n",
      "8              Darren Smith           Anna Mackenzie\n",
      "9              Darren Smith        no reccomendation\n",
      "10            David Farrell        no reccomendation\n",
      "11              David Jones            Douglas Jones\n",
      "12             David Pinker        no reccomendation\n",
      "13            Douglas Jones        no reccomendation\n",
      "14            Erica Crumpet        no reccomendation\n",
      "15           Florence Bader         Ramnaresh Sarwin\n",
      "16           Gerald Butters          Matthew Genting\n",
      "17         Henrietta Rumney        no reccomendation\n",
      "18  Henry Worthington-Smyth        no reccomendation\n",
      "19      Hyacinth Tupperware        no reccomendation\n",
      "20               Jack Smith        no reccomendation\n",
      "21          Janice Joplette               Nancy Dare\n",
      "22          Janice Joplette              David Jones\n",
      "23           Jemima Farrell            Timothy Baker\n",
      "24           Jemima Farrell             David Pinker\n",
      "25              Joan Coplin        no reccomendation\n",
      "26                John Hunt        no reccomendation\n",
      "27          Matthew Genting         Henrietta Rumney\n",
      "28        Millicent Purview                John Hunt\n",
      "29               Nancy Dare        no reccomendation\n",
      "30          Ponder Stibbons               Anne Baker\n",
      "31          Ponder Stibbons           Florence Bader\n",
      "32         Ramnaresh Sarwin        no reccomendation\n",
      "33               Tim Boothe        no reccomendation\n",
      "34               Tim Rownam               Tim Boothe\n",
      "35            Timothy Baker              Joan Coplin\n",
      "36              Tracy Smith  Henry Worthington-Smyth\n",
      "37              Tracy Smith        Millicent Purview\n",
      "38              Tracy Smith            Erica Crumpet\n"
     ]
    }
   ],
   "source": [
    "with conn:\n",
    "    cur= conn.cursor()\n",
    "    query11= ''' SELECT ( m.firstname || ' ' || m.surname ) AS member,\n",
    "CASE WHEN r.recommendedby IS NULL\n",
    "THEN 'no reccomendation'\n",
    "ELSE ( r.firstname || ' ' || r.surname )\n",
    "END AS recommended_by\n",
    "FROM Members AS m\n",
    "LEFT JOIN Members AS r ON m.memid = r.recommendedby\n",
    "WHERE m.memid !=0\n",
    "ORDER BY member'''\n",
    "    rs11= cur.execute(query11)\n",
    "    df11= pd.DataFrame(rs11.fetchall())\n",
    "    df11.columns= [i[0] for i in rs11.description]\n",
    "    print(df11)"
   ]
  },
  {
   "cell_type": "markdown",
   "metadata": {},
   "source": [
    "### Q12: Find the facilities with their usage by member, but not guests "
   ]
  },
  {
   "cell_type": "code",
   "execution_count": 22,
   "metadata": {},
   "outputs": [
    {
     "name": "stdout",
     "output_type": "stream",
     "text": [
      "              name  member_bookings\n",
      "0  Badminton Court              344\n",
      "1   Massage Room 1              421\n",
      "2   Massage Room 2               27\n",
      "3       Pool Table              783\n",
      "4    Snooker Table              421\n",
      "5     Squash Court              195\n",
      "6     Table Tennis              385\n",
      "7   Tennis Court 1              308\n",
      "8   Tennis Court 2              276\n"
     ]
    }
   ],
   "source": [
    "with conn:\n",
    "    cur= conn.cursor()\n",
    "    query12= '''SELECT f.name, COUNT( b.bookid ) AS member_bookings\n",
    "FROM Facilities AS f\n",
    "INNER JOIN Bookings AS b\n",
    "USING ( facid )\n",
    "WHERE b.memid !=0\n",
    "GROUP BY f.name'''\n",
    "    rs12= cur.execute(query12)\n",
    "    df12= pd.DataFrame(rs12.fetchall())\n",
    "    df12.columns= [i[0] for i in rs12.description]\n",
    "    print(df12)"
   ]
  },
  {
   "cell_type": "markdown",
   "metadata": {},
   "source": [
    "### * Q13: Find the facilities usage by month, but not guests "
   ]
  },
  {
   "cell_type": "code",
   "execution_count": 26,
   "metadata": {},
   "outputs": [
    {
     "name": "stdout",
     "output_type": "stream",
     "text": [
      "               name month  member_bookings\n",
      "0   Badminton Court    07               51\n",
      "1   Badminton Court    08              132\n",
      "2   Badminton Court    09              161\n",
      "3    Massage Room 1    07               77\n",
      "4    Massage Room 1    08              153\n",
      "5    Massage Room 1    09              191\n",
      "6    Massage Room 2    07                4\n",
      "7    Massage Room 2    08                9\n",
      "8    Massage Room 2    09               14\n",
      "9        Pool Table    07              103\n",
      "10       Pool Table    08              272\n",
      "11       Pool Table    09              408\n",
      "12    Snooker Table    07               68\n",
      "13    Snooker Table    08              154\n",
      "14    Snooker Table    09              199\n",
      "15     Squash Court    07               23\n",
      "16     Squash Court    08               85\n",
      "17     Squash Court    09               87\n",
      "18     Table Tennis    07               48\n",
      "19     Table Tennis    08              143\n",
      "20     Table Tennis    09              194\n",
      "21   Tennis Court 1    07               65\n",
      "22   Tennis Court 1    08              111\n",
      "23   Tennis Court 1    09              132\n",
      "24   Tennis Court 2    07               41\n",
      "25   Tennis Court 2    08              109\n",
      "26   Tennis Court 2    09              126\n"
     ]
    }
   ],
   "source": [
    "with conn:\n",
    "    cur= conn.cursor()\n",
    "    query13= '''SELECT f.name\n",
    "              ,strftime('%m', b.starttime) AS month\n",
    "              ,count(b.bookid) AS member_bookings\n",
    "          FROM Facilities as f\n",
    "                 INNER JOIN\n",
    "               Bookings as b\n",
    "            using(facid) \n",
    "         WHERE b.memid <> 0\n",
    "         GROUP BY month,f.name\n",
    "         ORDER BY f.name,month'''\n",
    "    rs13= cur.execute(query13)\n",
    "    df13= pd.DataFrame(rs13.fetchall())\n",
    "    df13.columns= [i[0] for i in rs13.description]\n",
    "    print(df13)"
   ]
  },
  {
   "cell_type": "code",
   "execution_count": null,
   "metadata": {},
   "outputs": [],
   "source": []
  }
 ],
 "metadata": {
  "kernelspec": {
   "display_name": "Python 3",
   "language": "python",
   "name": "python3"
  },
  "language_info": {
   "codemirror_mode": {
    "name": "ipython",
    "version": 3
   },
   "file_extension": ".py",
   "mimetype": "text/x-python",
   "name": "python",
   "nbconvert_exporter": "python",
   "pygments_lexer": "ipython3",
   "version": "3.7.4"
  }
 },
 "nbformat": 4,
 "nbformat_minor": 2
}
